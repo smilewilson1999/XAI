{
  "cells": [
    {
      "cell_type": "markdown",
      "metadata": {
        "id": "9nWXB3G4vGNB"
      },
      "source": [
        "# AIPI 590 - XAI | Assignment #08\n",
        "### Description\n",
        "### Your Name: Wilson Tseng\n",
        "\n",
        "#### Assignment 8 - XAI in LLMs:\n",
        "[GitHub Link](https://github.com/smilewilson1999/XAI/tree/b190ff22daceb428ac8888e74e4aa68b6c640af3/Assignment%208%20-%20XAI%20in%20LLMs)\n",
        "\n",
        "\n",
        "[![Open In Collab](https://colab.research.google.com/assets/colab-badge.svg)](https://colab.research.google.com/github/smilewilson1999/XAI/blob/main/Assignment%208%20-%20XAI%20in%20LLMs/XAI_Test.ipynb)"
      ]
    },
    {
      "cell_type": "markdown",
      "metadata": {
        "id": "NV55y7EVvGNC"
      },
      "source": [
        "## DO:\n",
        "* Use markdown and comments effectively\n",
        "* Pull out classes and functions into scripts\n",
        "* Ensure cells are executed in order and avoid skipping cells to maintain reproducibility\n",
        "* Choose the appropriate runtime (i.e. GPU) if needed\n",
        "* If you are using a dataset that is too large to put in your GitHub repository, you must either pull it in via Hugging Face Datasets or put it in an S3 bucket and use boto3 to pull from there.\n",
        "* Use versioning on all installs (ie pandas==1.3.0) to ensure consistency across versions\n",
        "* Implement error handling where appropriate\n",
        "\n",
        "## DON'T:\n",
        "* Absolutely NO sending us Google Drive links or zip files with data (see above).\n",
        "* Load packages throughout the notebook. Please load all packages in the first code cell in your notebook.\n",
        "* Add API keys or tokens directly to your notebook!!!! EVER!!!\n",
        "* Include cells that you used for testing or debugging. Delete these before submission\n",
        "* Have errors rendered in your notebook. Fix errors prior to submission."
      ]
    },
    {
      "cell_type": "code",
      "execution_count": null,
      "metadata": {
        "id": "5iiAPbZkvGNC"
      },
      "outputs": [],
      "source": [
        "# Please use this to connect your GitHub repository to your Google Colab notebook\n",
        "# Connects to any needed files from GitHub and Google Drive\n",
        "import os\n",
        "\n",
        "# Remove Colab default sample_data\n",
        "!rm -r ./sample_data\n",
        "\n",
        "# Clone GitHub files to colab workspace\n",
        "repo_name = \"XAI\" # Change to your repo name\n",
        "git_path = 'https://github.com/smilewilson1999/XAI.git' #Change to your path\n",
        "!git clone \"{git_path}\"\n",
        "\n",
        "# Install dependencies from requirements.txt file\n",
        "#!pip install -r \"{os.path.join(repo_name,'requirements.txt')}\" #Add if using requirements.txt\n",
        "\n",
        "# Change working directory to location of notebook\n",
        "notebook_dir = 'Assignment 8 - XAI in LLMs'\n",
        "path_to_notebook = os.path.join(repo_name, notebook_dir)\n",
        "%cd \"{path_to_notebook}\"\n",
        "%ls"
      ]
    },
    {
      "cell_type": "code",
      "execution_count": null,
      "metadata": {
        "id": "JlK3OyVfvGND",
        "outputId": "b791e5a6-c77b-4a7b-bc3b-bcd37e622a5e"
      },
      "outputs": [
        {
          "name": "stdout",
          "output_type": "stream",
          "text": [
            "Requirement already satisfied: numpy in /Users/wilson/opt/anaconda3/lib/python3.8/site-packages (1.23.5)\n",
            "Requirement already satisfied: matplotlib in /Users/wilson/opt/anaconda3/lib/python3.8/site-packages (3.7.5)\n",
            "Requirement already satisfied: scikit-learn in /Users/wilson/opt/anaconda3/lib/python3.8/site-packages (1.3.2)\n",
            "Collecting umap-learn\n",
            "  Downloading umap_learn-0.5.7-py3-none-any.whl.metadata (21 kB)\n",
            "Collecting sentence-transformers\n",
            "  Downloading sentence_transformers-3.2.1-py3-none-any.whl.metadata (10 kB)\n",
            "Requirement already satisfied: contourpy>=1.0.1 in /Users/wilson/opt/anaconda3/lib/python3.8/site-packages (from matplotlib) (1.1.1)\n",
            "Requirement already satisfied: cycler>=0.10 in /Users/wilson/opt/anaconda3/lib/python3.8/site-packages (from matplotlib) (0.10.0)\n",
            "Requirement already satisfied: fonttools>=4.22.0 in /Users/wilson/opt/anaconda3/lib/python3.8/site-packages (from matplotlib) (4.25.0)\n",
            "Requirement already satisfied: kiwisolver>=1.0.1 in /Users/wilson/opt/anaconda3/lib/python3.8/site-packages (from matplotlib) (1.3.1)\n",
            "Requirement already satisfied: packaging>=20.0 in /Users/wilson/opt/anaconda3/lib/python3.8/site-packages (from matplotlib) (21.0)\n",
            "Requirement already satisfied: pillow>=6.2.0 in /Users/wilson/opt/anaconda3/lib/python3.8/site-packages (from matplotlib) (10.4.0)\n",
            "Requirement already satisfied: pyparsing>=2.3.1 in /Users/wilson/opt/anaconda3/lib/python3.8/site-packages (from matplotlib) (2.4.7)\n",
            "Requirement already satisfied: python-dateutil>=2.7 in /Users/wilson/opt/anaconda3/lib/python3.8/site-packages (from matplotlib) (2.8.2)\n",
            "Requirement already satisfied: importlib-resources>=3.2.0 in /Users/wilson/opt/anaconda3/lib/python3.8/site-packages (from matplotlib) (6.4.5)\n",
            "Requirement already satisfied: scipy>=1.5.0 in /Users/wilson/opt/anaconda3/lib/python3.8/site-packages (from scikit-learn) (1.10.1)\n",
            "Requirement already satisfied: joblib>=1.1.1 in /Users/wilson/opt/anaconda3/lib/python3.8/site-packages (from scikit-learn) (1.4.2)\n",
            "Requirement already satisfied: threadpoolctl>=2.0.0 in /Users/wilson/opt/anaconda3/lib/python3.8/site-packages (from scikit-learn) (2.2.0)\n",
            "Requirement already satisfied: numba>=0.51.2 in /Users/wilson/opt/anaconda3/lib/python3.8/site-packages (from umap-learn) (0.58.1)\n",
            "Collecting pynndescent>=0.5 (from umap-learn)\n",
            "  Downloading pynndescent-0.5.13-py3-none-any.whl.metadata (6.8 kB)\n",
            "Requirement already satisfied: tqdm in /Users/wilson/opt/anaconda3/lib/python3.8/site-packages (from umap-learn) (4.66.5)\n",
            "Requirement already satisfied: transformers<5.0.0,>=4.41.0 in /Users/wilson/opt/anaconda3/lib/python3.8/site-packages (from sentence-transformers) (4.45.1)\n",
            "Requirement already satisfied: torch>=1.11.0 in /Users/wilson/opt/anaconda3/lib/python3.8/site-packages (from sentence-transformers) (2.2.2)\n",
            "Requirement already satisfied: huggingface-hub>=0.20.0 in /Users/wilson/opt/anaconda3/lib/python3.8/site-packages (from sentence-transformers) (0.25.1)\n",
            "Requirement already satisfied: six in /Users/wilson/opt/anaconda3/lib/python3.8/site-packages (from cycler>=0.10->matplotlib) (1.16.0)\n",
            "Requirement already satisfied: filelock in /Users/wilson/opt/anaconda3/lib/python3.8/site-packages (from huggingface-hub>=0.20.0->sentence-transformers) (3.0.12)\n",
            "Requirement already satisfied: fsspec>=2023.5.0 in /Users/wilson/opt/anaconda3/lib/python3.8/site-packages (from huggingface-hub>=0.20.0->sentence-transformers) (2024.9.0)\n",
            "Requirement already satisfied: pyyaml>=5.1 in /Users/wilson/opt/anaconda3/lib/python3.8/site-packages (from huggingface-hub>=0.20.0->sentence-transformers) (5.4.1)\n",
            "Requirement already satisfied: requests in /Users/wilson/opt/anaconda3/lib/python3.8/site-packages (from huggingface-hub>=0.20.0->sentence-transformers) (2.26.0)\n",
            "Requirement already satisfied: typing-extensions>=3.7.4.3 in /Users/wilson/opt/anaconda3/lib/python3.8/site-packages (from huggingface-hub>=0.20.0->sentence-transformers) (4.12.2)\n",
            "Requirement already satisfied: zipp>=3.1.0 in /Users/wilson/opt/anaconda3/lib/python3.8/site-packages (from importlib-resources>=3.2.0->matplotlib) (3.6.0)\n",
            "Requirement already satisfied: llvmlite<0.42,>=0.41.0dev0 in /Users/wilson/opt/anaconda3/lib/python3.8/site-packages (from numba>=0.51.2->umap-learn) (0.41.1)\n",
            "Requirement already satisfied: importlib-metadata in /Users/wilson/opt/anaconda3/lib/python3.8/site-packages (from numba>=0.51.2->umap-learn) (4.8.1)\n",
            "Requirement already satisfied: sympy in /Users/wilson/opt/anaconda3/lib/python3.8/site-packages (from torch>=1.11.0->sentence-transformers) (1.8)\n",
            "Requirement already satisfied: networkx in /Users/wilson/opt/anaconda3/lib/python3.8/site-packages (from torch>=1.11.0->sentence-transformers) (2.6.3)\n",
            "Requirement already satisfied: jinja2 in /Users/wilson/opt/anaconda3/lib/python3.8/site-packages (from torch>=1.11.0->sentence-transformers) (3.0.1)\n",
            "Requirement already satisfied: regex!=2019.12.17 in /Users/wilson/opt/anaconda3/lib/python3.8/site-packages (from transformers<5.0.0,>=4.41.0->sentence-transformers) (2021.8.3)\n",
            "Requirement already satisfied: safetensors>=0.4.1 in /Users/wilson/opt/anaconda3/lib/python3.8/site-packages (from transformers<5.0.0,>=4.41.0->sentence-transformers) (0.4.5)\n",
            "Requirement already satisfied: tokenizers<0.21,>=0.20 in /Users/wilson/opt/anaconda3/lib/python3.8/site-packages (from transformers<5.0.0,>=4.41.0->sentence-transformers) (0.20.0)\n",
            "Requirement already satisfied: MarkupSafe>=2.0 in /Users/wilson/opt/anaconda3/lib/python3.8/site-packages (from jinja2->torch>=1.11.0->sentence-transformers) (2.0.1)\n",
            "Requirement already satisfied: urllib3<1.27,>=1.21.1 in /Users/wilson/opt/anaconda3/lib/python3.8/site-packages (from requests->huggingface-hub>=0.20.0->sentence-transformers) (1.26.7)\n",
            "Requirement already satisfied: certifi>=2017.4.17 in /Users/wilson/opt/anaconda3/lib/python3.8/site-packages (from requests->huggingface-hub>=0.20.0->sentence-transformers) (2021.5.30)\n",
            "Requirement already satisfied: charset-normalizer~=2.0.0 in /Users/wilson/opt/anaconda3/lib/python3.8/site-packages (from requests->huggingface-hub>=0.20.0->sentence-transformers) (2.0.4)\n",
            "Requirement already satisfied: idna<4,>=2.5 in /Users/wilson/opt/anaconda3/lib/python3.8/site-packages (from requests->huggingface-hub>=0.20.0->sentence-transformers) (3.2)\n",
            "Requirement already satisfied: mpmath>=0.19 in /Users/wilson/opt/anaconda3/lib/python3.8/site-packages (from sympy->torch>=1.11.0->sentence-transformers) (1.2.1)\n",
            "Downloading umap_learn-0.5.7-py3-none-any.whl (88 kB)\n",
            "Downloading sentence_transformers-3.2.1-py3-none-any.whl (255 kB)\n",
            "Downloading pynndescent-0.5.13-py3-none-any.whl (56 kB)\n",
            "Installing collected packages: pynndescent, umap-learn, sentence-transformers\n",
            "Successfully installed pynndescent-0.5.13 sentence-transformers-3.2.1 umap-learn-0.5.7\n",
            "\n",
            "\u001b[1m[\u001b[0m\u001b[34;49mnotice\u001b[0m\u001b[1;39;49m]\u001b[0m\u001b[39;49m A new release of pip is available: \u001b[0m\u001b[31;49m24.2\u001b[0m\u001b[39;49m -> \u001b[0m\u001b[32;49m24.3.1\u001b[0m\n",
            "\u001b[1m[\u001b[0m\u001b[34;49mnotice\u001b[0m\u001b[1;39;49m]\u001b[0m\u001b[39;49m To update, run: \u001b[0m\u001b[32;49mpip install --upgrade pip\u001b[0m\n",
            "Note: you may need to restart the kernel to use updated packages.\n"
          ]
        }
      ],
      "source": [
        "%pip install numpy matplotlib scikit-learn umap-learn sentence-transformers"
      ]
    }
  ],
  "metadata": {
    "kernelspec": {
      "display_name": "base",
      "language": "python",
      "name": "python3"
    },
    "language_info": {
      "codemirror_mode": {
        "name": "ipython",
        "version": 3
      },
      "file_extension": ".py",
      "mimetype": "text/x-python",
      "name": "python",
      "nbconvert_exporter": "python",
      "pygments_lexer": "ipython3",
      "version": "3.8.8"
    },
    "colab": {
      "provenance": []
    }
  },
  "nbformat": 4,
  "nbformat_minor": 0
}