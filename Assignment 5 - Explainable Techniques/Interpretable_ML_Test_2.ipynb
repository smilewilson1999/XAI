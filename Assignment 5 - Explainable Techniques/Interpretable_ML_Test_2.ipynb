{
 "cells": [
  {
   "cell_type": "markdown",
   "metadata": {},
   "source": [
    "# AIPI 590 - XAI | Assignment #05\n",
    "### Description\n",
    "### Your Name: Wilson Tseng\n",
    "\n",
    "#### Assignment 5 - Explainable Techniques:\n",
    "[GitHub Link](Pending)\n",
    "\n",
    "\n",
    "[![Open In Collab](https://colab.research.google.com/assets/colab-badge.svg)](https://colab.research.google.com/github/smilewilson1999/XAI/blob/main/Assignment%204%20-%20Interpretable%20ML%20II/Interpretable_ML_Test_2.ipynb) # have to be editted"
   ]
  },
  {
   "cell_type": "markdown",
   "metadata": {},
   "source": [
    "## DO:\n",
    "* Use markdown and comments effectively\n",
    "* Pull out classes and functions into scripts\n",
    "* Ensure cells are executed in order and avoid skipping cells to maintain reproducibility\n",
    "* Choose the appropriate runtime (i.e. GPU) if needed\n",
    "* If you are using a dataset that is too large to put in your GitHub repository, you must either pull it in via Hugging Face Datasets or put it in an S3 bucket and use boto3 to pull from there.\n",
    "* Use versioning on all installs (ie pandas==1.3.0) to ensure consistency across versions\n",
    "* Implement error handling where appropriate\n",
    "\n",
    "## DON'T:\n",
    "* Absolutely NO sending us Google Drive links or zip files with data (see above).\n",
    "* Load packages throughout the notebook. Please load all packages in the first code cell in your notebook.\n",
    "* Add API keys or tokens directly to your notebook!!!! EVER!!!\n",
    "* Include cells that you used for testing or debugging. Delete these before submission\n",
    "* Have errors rendered in your notebook. Fix errors prior to submission."
   ]
  },
  {
   "cell_type": "code",
   "execution_count": null,
   "metadata": {},
   "outputs": [],
   "source": [
    "# Please use this to connect your GitHub repository to your Google Colab notebook\n",
    "# Connects to any needed files from GitHub and Google Drive\n",
    "import os\n",
    "\n",
    "# Remove Colab default sample_data\n",
    "!rm -r ./sample_data\n",
    "\n",
    "# Clone GitHub files to colab workspace\n",
    "repo_name = \"XAI\" # Change to your repo name\n",
    "git_path = 'https://github.com/smilewilson1999/XAI.git' #Change to your path\n",
    "!git clone \"{git_path}\"\n",
    "\n",
    "# Install dependencies from requirements.txt file\n",
    "#!pip install -r \"{os.path.join(repo_name,'requirements.txt')}\" #Add if using requirements.txt\n",
    "\n",
    "# Change working directory to location of notebook\n",
    "notebook_dir = 'Assignment 5 - Explainable Techniques'\n",
    "path_to_notebook = os.path.join(repo_name, notebook_dir)\n",
    "%cd \"{path_to_notebook}\"\n",
    "%ls"
   ]
  },
  {
   "cell_type": "code",
   "execution_count": 2,
   "metadata": {},
   "outputs": [
    {
     "name": "stdout",
     "output_type": "stream",
     "text": [
      "Collecting imodels\n",
      "  Downloading imodels-1.4.1-py3-none-any.whl.metadata (30 kB)\n",
      "Requirement already satisfied: matplotlib in /Users/wilson/opt/anaconda3/lib/python3.8/site-packages (from imodels) (3.4.2)\n",
      "Collecting mlxtend>=0.18.0 (from imodels)\n",
      "  Downloading mlxtend-0.23.1-py3-none-any.whl.metadata (7.3 kB)\n",
      "Requirement already satisfied: numpy in /Users/wilson/opt/anaconda3/lib/python3.8/site-packages (from imodels) (1.24.4)\n",
      "Requirement already satisfied: pandas in /Users/wilson/opt/anaconda3/lib/python3.8/site-packages (from imodels) (1.2.3)\n",
      "Requirement already satisfied: requests in /Users/wilson/opt/anaconda3/lib/python3.8/site-packages (from imodels) (2.26.0)\n",
      "Requirement already satisfied: scipy in /Users/wilson/opt/anaconda3/lib/python3.8/site-packages (from imodels) (1.10.1)\n",
      "Requirement already satisfied: scikit-learn in /Users/wilson/opt/anaconda3/lib/python3.8/site-packages (from imodels) (1.3.2)\n",
      "Requirement already satisfied: tqdm in /Users/wilson/opt/anaconda3/lib/python3.8/site-packages (from imodels) (4.62.2)\n",
      "Requirement already satisfied: joblib>=0.13.2 in /Users/wilson/opt/anaconda3/lib/python3.8/site-packages (from mlxtend>=0.18.0->imodels) (1.4.2)\n",
      "Requirement already satisfied: cycler>=0.10 in /Users/wilson/opt/anaconda3/lib/python3.8/site-packages (from matplotlib->imodels) (0.10.0)\n",
      "Requirement already satisfied: kiwisolver>=1.0.1 in /Users/wilson/opt/anaconda3/lib/python3.8/site-packages (from matplotlib->imodels) (1.3.1)\n",
      "Requirement already satisfied: pillow>=6.2.0 in /Users/wilson/opt/anaconda3/lib/python3.8/site-packages (from matplotlib->imodels) (8.3.1)\n",
      "Requirement already satisfied: pyparsing>=2.2.1 in /Users/wilson/opt/anaconda3/lib/python3.8/site-packages (from matplotlib->imodels) (2.4.7)\n",
      "Requirement already satisfied: python-dateutil>=2.7 in /Users/wilson/opt/anaconda3/lib/python3.8/site-packages (from matplotlib->imodels) (2.8.2)\n",
      "Requirement already satisfied: pytz>=2017.3 in /Users/wilson/opt/anaconda3/lib/python3.8/site-packages (from pandas->imodels) (2021.3)\n",
      "Requirement already satisfied: threadpoolctl>=2.0.0 in /Users/wilson/opt/anaconda3/lib/python3.8/site-packages (from scikit-learn->imodels) (2.2.0)\n",
      "Requirement already satisfied: urllib3<1.27,>=1.21.1 in /Users/wilson/opt/anaconda3/lib/python3.8/site-packages (from requests->imodels) (1.26.7)\n",
      "Requirement already satisfied: certifi>=2017.4.17 in /Users/wilson/opt/anaconda3/lib/python3.8/site-packages (from requests->imodels) (2021.5.30)\n",
      "Requirement already satisfied: charset-normalizer~=2.0.0 in /Users/wilson/opt/anaconda3/lib/python3.8/site-packages (from requests->imodels) (2.0.4)\n",
      "Requirement already satisfied: idna<4,>=2.5 in /Users/wilson/opt/anaconda3/lib/python3.8/site-packages (from requests->imodels) (3.2)\n",
      "Requirement already satisfied: six in /Users/wilson/opt/anaconda3/lib/python3.8/site-packages (from cycler>=0.10->matplotlib->imodels) (1.16.0)\n",
      "Downloading imodels-1.4.1-py3-none-any.whl (231 kB)\n",
      "\u001b[2K   \u001b[90m━━━━━━━━━━━━━━━━━━━━━━━━━━━━━━━━━━━━━━━━\u001b[0m \u001b[32m231.2/231.2 kB\u001b[0m \u001b[31m2.7 MB/s\u001b[0m eta \u001b[36m0:00:00\u001b[0ma \u001b[36m0:00:01\u001b[0m\n",
      "\u001b[?25hDownloading mlxtend-0.23.1-py3-none-any.whl (1.4 MB)\n",
      "\u001b[2K   \u001b[90m━━━━━━━━━━━━━━━━━━━━━━━━━━━━━━━━━━━━━━━━\u001b[0m \u001b[32m1.4/1.4 MB\u001b[0m \u001b[31m8.3 MB/s\u001b[0m eta \u001b[36m0:00:00\u001b[0ma \u001b[36m0:00:01\u001b[0mm\n",
      "\u001b[?25h\u001b[33mDEPRECATION: pyodbc 4.0.0-unsupported has a non-standard version number. pip 24.1 will enforce this behaviour change. A possible replacement is to upgrade to a newer version of pyodbc or contact the author to suggest that they release a version with a conforming version number. Discussion can be found at https://github.com/pypa/pip/issues/12063\u001b[0m\u001b[33m\n",
      "\u001b[0mInstalling collected packages: mlxtend, imodels\n",
      "Successfully installed imodels-1.4.1 mlxtend-0.23.1\n",
      "\n",
      "\u001b[1m[\u001b[0m\u001b[34;49mnotice\u001b[0m\u001b[1;39;49m]\u001b[0m\u001b[39;49m A new release of pip is available: \u001b[0m\u001b[31;49m24.0\u001b[0m\u001b[39;49m -> \u001b[0m\u001b[32;49m24.2\u001b[0m\n",
      "\u001b[1m[\u001b[0m\u001b[34;49mnotice\u001b[0m\u001b[1;39;49m]\u001b[0m\u001b[39;49m To update, run: \u001b[0m\u001b[32;49mpip install --upgrade pip\u001b[0m\n"
     ]
    }
   ],
   "source": [
    "!pip install transformers shap --quiet"
   ]
  },
  {
   "cell_type": "markdown",
   "metadata": {},
   "source": []
  }
 ],
 "metadata": {
  "kernelspec": {
   "display_name": "Python 3",
   "language": "python",
   "name": "python3"
  },
  "language_info": {
   "codemirror_mode": {
    "name": "ipython",
    "version": 3
   },
   "file_extension": ".py",
   "mimetype": "text/x-python",
   "name": "python",
   "nbconvert_exporter": "python",
   "pygments_lexer": "ipython3",
   "version": "3.8.8"
  }
 },
 "nbformat": 4,
 "nbformat_minor": 2
}
