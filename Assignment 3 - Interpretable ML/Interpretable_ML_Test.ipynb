{
  "cells": [
    {
      "cell_type": "markdown",
      "metadata": {
        "id": "8PkJWeRz1Ka9"
      },
      "source": [
        "# AIPI 590 - XAI | Assignment #03\n",
        "### Description\n",
        "### Your Name: Wilson Tseng\n",
        "\n",
        "#### Assignment 3 - Interpretable ML:\n",
        "[GitHub Link](https://github.com/smilewilson1999/XAI/tree/84fd6d65d674d198f80e6197273b1fb01df0fe74/Assignment%203%20-%20Interpretable%20ML)\n",
        "\n",
        "\n",
        "[![Open In Collab](https://colab.research.google.com/assets/colab-badge.svg)](https://colab.research.google.com/github/smilewilson1999/XAI/blob/main/Assignment%203%20-%20Interpretable%20ML/Interpretable_ML_Test.ipynb)"
      ]
    },
    {
      "cell_type": "markdown",
      "metadata": {
        "id": "-DAW8K8j1Ka-"
      },
      "source": [
        "## DO:\n",
        "* Use markdown and comments effectively\n",
        "* Pull out classes and functions into scripts\n",
        "* Ensure cells are executed in order and avoid skipping cells to maintain reproducibility\n",
        "* Choose the appropriate runtime (i.e. GPU) if needed\n",
        "* If you are using a dataset that is too large to put in your GitHub repository, you must either pull it in via Hugging Face Datasets or put it in an S3 bucket and use boto3 to pull from there.\n",
        "* Use versioning on all installs (ie pandas==1.3.0) to ensure consistency across versions\n",
        "* Implement error handling where appropriate\n",
        "\n",
        "## DON'T:\n",
        "* Absolutely NO sending us Google Drive links or zip files with data (see above).\n",
        "* Load packages throughout the notebook. Please load all packages in the first code cell in your notebook.\n",
        "* Add API keys or tokens directly to your notebook!!!! EVER!!!\n",
        "* Include cells that you used for testing or debugging. Delete these before submission\n",
        "* Have errors rendered in your notebook. Fix errors prior to submission."
      ]
    },
    {
      "cell_type": "code",
      "execution_count": null,
      "metadata": {
        "id": "lpQVenGr1Ka-"
      },
      "outputs": [],
      "source": [
        "# Please use this to connect your GitHub repository to your Google Colab notebook\n",
        "# Connects to any needed files from GitHub and Google Drive\n",
        "import os\n",
        "\n",
        "# Remove Colab default sample_data\n",
        "!rm -r ./sample_data\n",
        "\n",
        "# Clone GitHub files to colab workspace\n",
        "repo_name = \"XAI\" # Change to your repo name\n",
        "git_path = 'https://github.com/smilewilson1999/XAI.git' #Change to your path\n",
        "!git clone \"{git_path}\"\n",
        "\n",
        "# Install dependencies from requirements.txt file\n",
        "#!pip install -r \"{os.path.join(repo_name,'requirements.txt')}\" #Add if using requirements.txt\n",
        "\n",
        "# Change working directory to location of notebook\n",
        "notebook_dir = 'Assignment 3 - Interpretable ML'\n",
        "path_to_notebook = os.path.join(repo_name, notebook_dir)\n",
        "%cd \"{path_to_notebook}\"\n",
        "%ls"
      ]
    },
    {
      "cell_type": "markdown",
      "metadata": {
        "id": "XDOuax5i1Ka-"
      },
      "source": [
        "#### Using environment variables in Google Colab\n",
        "\n",
        "In Google Colab, locate the key button on the left side of the screen. You can enter in any environment variables or API keys here and they will remain private.\n",
        "\n",
        "Then add the environment variables to your notebook using the code below.\n",
        "\n",
        "Make sure to document in your notebook if you are using API keys and how to get them (ie share a link for documentation to get a Hugging Face API Key if you are using Hugging Face)"
      ]
    },
    {
      "cell_type": "code",
      "execution_count": 28,
      "metadata": {
        "id": "4878db18"
      },
      "outputs": [],
      "source": [
        "# Import necessary libraries and load the dataset\n",
        "import pandas as pd\n",
        "import matplotlib.pyplot as plt\n",
        "import seaborn as sns\n",
        "from sklearn.model_selection import train_test_split, GridSearchCV\n",
        "from sklearn.utils import shuffle\n",
        "from sklearn.preprocessing import StandardScaler\n",
        "from sklearn.linear_model import LinearRegression, LogisticRegression\n",
        "from sklearn.metrics import mean_squared_error, r2_score, accuracy_score, roc_auc_score, classification_report, confusion_matrix, roc_curve, auc, ConfusionMatrixDisplay\n",
        "from pygam import LogisticGAM, s, f, l"
      ]
    },
    {
      "cell_type": "code",
      "execution_count": 49,
      "metadata": {
        "id": "2aca4b7d",
        "outputId": "258e7563-45ce-43b8-da4a-45062ce88339"
      },
      "outputs": [
        {
          "data": {
            "text/html": [
              "<div>\n",
              "<style scoped>\n",
              "    .dataframe tbody tr th:only-of-type {\n",
              "        vertical-align: middle;\n",
              "    }\n",
              "\n",
              "    .dataframe tbody tr th {\n",
              "        vertical-align: top;\n",
              "    }\n",
              "\n",
              "    .dataframe thead th {\n",
              "        text-align: right;\n",
              "    }\n",
              "</style>\n",
              "<table border=\"1\" class=\"dataframe\">\n",
              "  <thead>\n",
              "    <tr style=\"text-align: right;\">\n",
              "      <th></th>\n",
              "      <th>customerID</th>\n",
              "      <th>gender</th>\n",
              "      <th>SeniorCitizen</th>\n",
              "      <th>Partner</th>\n",
              "      <th>Dependents</th>\n",
              "      <th>tenure</th>\n",
              "      <th>PhoneService</th>\n",
              "      <th>MultipleLines</th>\n",
              "      <th>InternetService</th>\n",
              "      <th>OnlineSecurity</th>\n",
              "      <th>...</th>\n",
              "      <th>DeviceProtection</th>\n",
              "      <th>TechSupport</th>\n",
              "      <th>StreamingTV</th>\n",
              "      <th>StreamingMovies</th>\n",
              "      <th>Contract</th>\n",
              "      <th>PaperlessBilling</th>\n",
              "      <th>PaymentMethod</th>\n",
              "      <th>MonthlyCharges</th>\n",
              "      <th>TotalCharges</th>\n",
              "      <th>Churn</th>\n",
              "    </tr>\n",
              "  </thead>\n",
              "  <tbody>\n",
              "    <tr>\n",
              "      <th>0</th>\n",
              "      <td>7590-VHVEG</td>\n",
              "      <td>Female</td>\n",
              "      <td>0</td>\n",
              "      <td>Yes</td>\n",
              "      <td>No</td>\n",
              "      <td>1</td>\n",
              "      <td>No</td>\n",
              "      <td>No phone service</td>\n",
              "      <td>DSL</td>\n",
              "      <td>No</td>\n",
              "      <td>...</td>\n",
              "      <td>No</td>\n",
              "      <td>No</td>\n",
              "      <td>No</td>\n",
              "      <td>No</td>\n",
              "      <td>Month-to-month</td>\n",
              "      <td>Yes</td>\n",
              "      <td>Electronic check</td>\n",
              "      <td>29.85</td>\n",
              "      <td>29.85</td>\n",
              "      <td>No</td>\n",
              "    </tr>\n",
              "    <tr>\n",
              "      <th>1</th>\n",
              "      <td>5575-GNVDE</td>\n",
              "      <td>Male</td>\n",
              "      <td>0</td>\n",
              "      <td>No</td>\n",
              "      <td>No</td>\n",
              "      <td>34</td>\n",
              "      <td>Yes</td>\n",
              "      <td>No</td>\n",
              "      <td>DSL</td>\n",
              "      <td>Yes</td>\n",
              "      <td>...</td>\n",
              "      <td>Yes</td>\n",
              "      <td>No</td>\n",
              "      <td>No</td>\n",
              "      <td>No</td>\n",
              "      <td>One year</td>\n",
              "      <td>No</td>\n",
              "      <td>Mailed check</td>\n",
              "      <td>56.95</td>\n",
              "      <td>1889.5</td>\n",
              "      <td>No</td>\n",
              "    </tr>\n",
              "    <tr>\n",
              "      <th>2</th>\n",
              "      <td>3668-QPYBK</td>\n",
              "      <td>Male</td>\n",
              "      <td>0</td>\n",
              "      <td>No</td>\n",
              "      <td>No</td>\n",
              "      <td>2</td>\n",
              "      <td>Yes</td>\n",
              "      <td>No</td>\n",
              "      <td>DSL</td>\n",
              "      <td>Yes</td>\n",
              "      <td>...</td>\n",
              "      <td>No</td>\n",
              "      <td>No</td>\n",
              "      <td>No</td>\n",
              "      <td>No</td>\n",
              "      <td>Month-to-month</td>\n",
              "      <td>Yes</td>\n",
              "      <td>Mailed check</td>\n",
              "      <td>53.85</td>\n",
              "      <td>108.15</td>\n",
              "      <td>Yes</td>\n",
              "    </tr>\n",
              "    <tr>\n",
              "      <th>3</th>\n",
              "      <td>7795-CFOCW</td>\n",
              "      <td>Male</td>\n",
              "      <td>0</td>\n",
              "      <td>No</td>\n",
              "      <td>No</td>\n",
              "      <td>45</td>\n",
              "      <td>No</td>\n",
              "      <td>No phone service</td>\n",
              "      <td>DSL</td>\n",
              "      <td>Yes</td>\n",
              "      <td>...</td>\n",
              "      <td>Yes</td>\n",
              "      <td>Yes</td>\n",
              "      <td>No</td>\n",
              "      <td>No</td>\n",
              "      <td>One year</td>\n",
              "      <td>No</td>\n",
              "      <td>Bank transfer (automatic)</td>\n",
              "      <td>42.30</td>\n",
              "      <td>1840.75</td>\n",
              "      <td>No</td>\n",
              "    </tr>\n",
              "    <tr>\n",
              "      <th>4</th>\n",
              "      <td>9237-HQITU</td>\n",
              "      <td>Female</td>\n",
              "      <td>0</td>\n",
              "      <td>No</td>\n",
              "      <td>No</td>\n",
              "      <td>2</td>\n",
              "      <td>Yes</td>\n",
              "      <td>No</td>\n",
              "      <td>Fiber optic</td>\n",
              "      <td>No</td>\n",
              "      <td>...</td>\n",
              "      <td>No</td>\n",
              "      <td>No</td>\n",
              "      <td>No</td>\n",
              "      <td>No</td>\n",
              "      <td>Month-to-month</td>\n",
              "      <td>Yes</td>\n",
              "      <td>Electronic check</td>\n",
              "      <td>70.70</td>\n",
              "      <td>151.65</td>\n",
              "      <td>Yes</td>\n",
              "    </tr>\n",
              "  </tbody>\n",
              "</table>\n",
              "<p>5 rows × 21 columns</p>\n",
              "</div>"
            ],
            "text/plain": [
              "   customerID  gender  SeniorCitizen Partner Dependents  tenure PhoneService  \\\n",
              "0  7590-VHVEG  Female              0     Yes         No       1           No   \n",
              "1  5575-GNVDE    Male              0      No         No      34          Yes   \n",
              "2  3668-QPYBK    Male              0      No         No       2          Yes   \n",
              "3  7795-CFOCW    Male              0      No         No      45           No   \n",
              "4  9237-HQITU  Female              0      No         No       2          Yes   \n",
              "\n",
              "      MultipleLines InternetService OnlineSecurity  ... DeviceProtection  \\\n",
              "0  No phone service             DSL             No  ...               No   \n",
              "1                No             DSL            Yes  ...              Yes   \n",
              "2                No             DSL            Yes  ...               No   \n",
              "3  No phone service             DSL            Yes  ...              Yes   \n",
              "4                No     Fiber optic             No  ...               No   \n",
              "\n",
              "  TechSupport StreamingTV StreamingMovies        Contract PaperlessBilling  \\\n",
              "0          No          No              No  Month-to-month              Yes   \n",
              "1          No          No              No        One year               No   \n",
              "2          No          No              No  Month-to-month              Yes   \n",
              "3         Yes          No              No        One year               No   \n",
              "4          No          No              No  Month-to-month              Yes   \n",
              "\n",
              "               PaymentMethod MonthlyCharges  TotalCharges Churn  \n",
              "0           Electronic check          29.85         29.85    No  \n",
              "1               Mailed check          56.95        1889.5    No  \n",
              "2               Mailed check          53.85        108.15   Yes  \n",
              "3  Bank transfer (automatic)          42.30       1840.75    No  \n",
              "4           Electronic check          70.70        151.65   Yes  \n",
              "\n",
              "[5 rows x 21 columns]"
            ]
          },
          "execution_count": 49,
          "metadata": {},
          "output_type": "execute_result"
        }
      ],
      "source": [
        "# Load the dataset\n",
        "df = pd.read_csv('./WA_Fn-UseC_-Telco-Customer-Churn.csv')\n",
        "\n",
        "# Display the first few rows of the dataset to confirm successful loading\n",
        "df.head()"
      ]
    },
    {
      "cell_type": "markdown",
      "metadata": {},
      "source": [
        "## Linear Regression\n",
        "\n",
        "In this section, I will treat the churn variable as a continuous variable (0 for staying, 1 for churning) and build a linear regression model. I will interpret the coefficients and assess the model's performance using metrics such as Mean Squared Error (MSE) and R-squared."
      ]
    },
    {
      "cell_type": "code",
      "execution_count": 50,
      "metadata": {},
      "outputs": [
        {
          "name": "stdout",
          "output_type": "stream",
          "text": [
            "Linear Regression MSE: 0.1440307044751866\n",
            "Linear Regression R-squared: 0.26003959078740957\n",
            "Coefficients:\n",
            "                 Coefficient\n",
            "tenure            -0.002786\n",
            "MonthlyCharges     0.006946\n",
            "TotalCharges      -0.000073\n"
          ]
        }
      ],
      "source": [
        "# Ensure 'TotalCharges', 'MonthlyCharges', and 'tenure' are numeric\n",
        "df['TotalCharges'] = pd.to_numeric(df['TotalCharges'], errors='coerce')  # Convert to numeric, set invalid values to NaN\n",
        "df['MonthlyCharges'] = pd.to_numeric(df['MonthlyCharges'], errors='coerce')  # Ensure MonthlyCharges is numeric\n",
        "df['tenure'] = pd.to_numeric(df['tenure'], errors='coerce')  # Ensure tenure is numeric\n",
        "\n",
        "# Fill missing values if any\n",
        "df['TotalCharges'].fillna(df['TotalCharges'].median(), inplace=True)\n",
        "df['MonthlyCharges'].fillna(df['MonthlyCharges'].median(), inplace=True)\n",
        "df['tenure'].fillna(df['tenure'].median(), inplace=True)\n",
        "\n",
        "df['Churn'] = df['Churn'].apply(lambda x: 1 if x == 'Yes' else 0)\n",
        "\n",
        "# Define the features (X) and target (y)\n",
        "X = df[['tenure', 'MonthlyCharges', 'TotalCharges']]  # Numerical features\n",
        "y = df['Churn']  # Treat churn as continuous (0: stay, 1: churn)\n",
        "\n",
        "# Split the data into training and test sets\n",
        "X_train, X_test, y_train, y_test = train_test_split(X, y, test_size=0.2, random_state=42)\n",
        "\n",
        "# Build and fit the linear regression model\n",
        "linear_reg_model = LinearRegression()\n",
        "linear_reg_model.fit(X_train, y_train)\n",
        "\n",
        "# Make predictions on the test set\n",
        "y_pred_linear = linear_reg_model.predict(X_test)\n",
        "\n",
        "# Evaluate the linear regression model\n",
        "mse = mean_squared_error(y_test, y_pred_linear)\n",
        "r2 = r2_score(y_test, y_pred_linear)\n",
        "\n",
        "print(f'Linear Regression MSE: {mse}')\n",
        "print(f'Linear Regression R-squared: {r2}')\n",
        "\n",
        "# Interpret the coefficients\n",
        "coefficients = pd.DataFrame(linear_reg_model.coef_, X.columns, columns=['Coefficient'])\n",
        "print('Coefficients:\\n', coefficients)"
      ]
    },
    {
      "cell_type": "markdown",
      "metadata": {
        "id": "657f3d96"
      },
      "source": [
        "\n",
        "## 2. Logistic Regression\n",
        "\n",
        "I will use logistic regression to predict churn since the churn variable is binary (0 for staying, 1 for churning). I will interpret the model's coefficients and evaluate its performance using appropriate classification metrics.\n",
        "    "
      ]
    },
    {
      "cell_type": "markdown",
      "metadata": {
        "id": "a25ebb99"
      },
      "source": [
        "\n",
        "## Exploratory Data Analysis (EDA)\n",
        "\n",
        "I will first perform some exploratory data analysis (EDA) to understand the relationships between different features and the target variable (churn). This will help us determine the assumptions for linear, logistic, and generalized additive models.\n",
        "\n",
        "I will use various visualizations and statistical methods to check for relationships and patterns.\n",
        "    "
      ]
    },
    {
      "cell_type": "code",
      "execution_count": 52,
      "metadata": {
        "id": "e55e4650",
        "outputId": "d293e326-4981-4588-d330-e0a2a6a8716c"
      },
      "outputs": [
        {
          "name": "stdout",
          "output_type": "stream",
          "text": [
            "Accuracy: 0.7863733144073811\n",
            "AUC: 0.819521359735837\n",
            "Classification Report:\n",
            "               precision    recall  f1-score   support\n",
            "\n",
            "           0       0.85      0.87      0.86      1036\n",
            "           1       0.60      0.56      0.58       373\n",
            "\n",
            "    accuracy                           0.79      1409\n",
            "   macro avg       0.72      0.71      0.72      1409\n",
            "weighted avg       0.78      0.79      0.78      1409\n",
            "\n",
            "Confusion Matrix:\n",
            " [[898 138]\n",
            " [163 210]]\n"
          ]
        },
        {
          "data": {
            "image/png": "[encoded data removed]",
            "text/plain": [
              "<Figure size 576x432 with 1 Axes>"
            ]
          },
          "metadata": {
            "needs_background": "light"
          },
          "output_type": "display_data"
        },
        {
          "data": {
            "image/png": "[encoded data removed]",
            "text/plain": [
              "<Figure size 432x288 with 2 Axes>"
            ]
          },
          "metadata": {
            "needs_background": "light"
          },
          "output_type": "display_data"
        },
        {
          "data": {
            "image/png": "[encoded data removed]",
            "text/plain": [
              "<Figure size 720x432 with 1 Axes>"
            ]
          },
          "metadata": {
            "needs_background": "light"
          },
          "output_type": "display_data"
        },
        {
          "data": {
            "text/plain": [
              "\"\\n1. ROC Curve: Used to show the model's classification ability. The closer the area under the curve (AUC) is to 1, the better the model's performance.\\n2. Confusion Matrix: A visual display of the correct and incorrect data classification results predicted by the model.\\n3. Bar Chart of Classification Report: A bar chart of the F1 scores for each category, showing how well the model performs in each category.\\n\""
            ]
          },
          "execution_count": 52,
          "metadata": {},
          "output_type": "execute_result"
        }
      ],
      "source": [
        "# Build the logistic regression model\n",
        "log_reg_model = LogisticRegression(max_iter=1000)\n",
        "log_reg_model.fit(X_train, y_train)\n",
        "\n",
        "# Predict on test set\n",
        "y_pred_log = log_reg_model.predict(X_test)\n",
        "y_pred_prob = log_reg_model.predict_proba(X_test)[:, 1]\n",
        "\n",
        "# Evaluate the model using classification metrics\n",
        "print(\"Accuracy:\", accuracy_score(y_test, y_pred_log))\n",
        "print(\"AUC:\", roc_auc_score(y_test, y_pred_prob))\n",
        "print(\"Classification Report:\\n\", classification_report(y_test, y_pred_log))\n",
        "print(\"Confusion Matrix:\\n\", confusion_matrix(y_test, y_pred_log))\n",
        "\n",
        "# Plot ROC Curve\n",
        "fpr, tpr, _ = roc_curve(y_test, y_pred_prob)\n",
        "roc_auc = auc(fpr, tpr)\n",
        "\n",
        "plt.figure(figsize=(8, 6))\n",
        "plt.plot(fpr, tpr, color='darkorange', lw=2, label=f'ROC curve (area = {roc_auc:.2f})')\n",
        "plt.plot([0, 1], [0, 1], color='navy', lw=2, linestyle='--')\n",
        "plt.xlim([0.0, 1.0])\n",
        "plt.ylim([0.0, 1.05])\n",
        "plt.xlabel('False Positive Rate')\n",
        "plt.ylabel('True Positive Rate')\n",
        "plt.title('Receiver Operating Characteristic (ROC) Curve')\n",
        "plt.legend(loc=\"lower right\")\n",
        "plt.show()\n",
        "\n",
        "# Plot Confusion Matrix\n",
        "ConfusionMatrixDisplay.from_estimator(log_reg_model, X_test, y_test, cmap=plt.cm.Blues)\n",
        "plt.title('Confusion Matrix')\n",
        "plt.show()\n",
        "\n",
        "# Plot Classification Report as a Bar Chart\n",
        "report = classification_report(y_test, y_pred_log, output_dict=True)\n",
        "df_report = pd.DataFrame(report).transpose()\n",
        "\n",
        "plt.figure(figsize=(10, 6))\n",
        "sns.barplot(x=df_report.index, y=df_report['f1-score'], color=\"skyblue\")\n",
        "plt.title(\"F1 Scores for Each Class\")\n",
        "plt.ylabel('F1 Score')\n",
        "plt.xticks(rotation=45)\n",
        "plt.show()\n",
        "\n",
        "\"\"\"\n",
        "1. ROC Curve: Used to show the model's classification ability. The closer the area under the curve (AUC) is to 1, the better the model's performance.\n",
        "2. Confusion Matrix: A visual display of the correct and incorrect data classification results predicted by the model.\n",
        "3. Bar Chart of Classification Report: A bar chart of the F1 scores for each category, showing how well the model performs in each category.\n",
        "\"\"\"\n"
      ]
    },
    {
      "cell_type": "markdown",
      "metadata": {
        "id": "2f830ab7"
      },
      "source": [
        "I will use logistic regression to predict churn since the churn variable is binary (0 for staying, 1 for churning). I will interpret the model's coefficients and evaluate its performance using appropriate classification metrics.\n",
        "    "
      ]
    },
    {
      "cell_type": "code",
      "execution_count": 53,
      "metadata": {
        "id": "e158287e",
        "outputId": "fa6eea0e-8276-4b1a-8d1c-0f8d27aeaeea"
      },
      "outputs": [
        {
          "name": "stdout",
          "output_type": "stream",
          "text": [
            "\n",
            "Original class distribution:\n",
            "0    5174\n",
            "1    1869\n",
            "Name: Churn, dtype: int64\n",
            "\n",
            "Training set class distribution:\n",
            "0    4139\n",
            "1    1495\n",
            "Name: Churn, dtype: int64\n",
            "\n",
            "Test set class distribution:\n",
            "0    1035\n",
            "1     374\n",
            "Name: Churn, dtype: int64\n",
            "\n",
            "Best parameters found: {'C': 100, 'penalty': 'l1', 'solver': 'liblinear'}\n",
            "\n",
            "Accuracy: 0.7388218594748048\n",
            "AUC: 0.8403187889121393\n",
            "\n",
            "Classification Report:\n",
            "               precision    recall  f1-score   support\n",
            "\n",
            "           0       0.90      0.72      0.80      1035\n",
            "           1       0.51      0.78      0.61       374\n",
            "\n",
            "    accuracy                           0.74      1409\n",
            "   macro avg       0.70      0.75      0.71      1409\n",
            "weighted avg       0.80      0.74      0.75      1409\n",
            "\n",
            "Confusion Matrix:\n",
            " [[749 286]\n",
            " [ 82 292]]\n"
          ]
        }
      ],
      "source": [
        "# Define features and target variable\n",
        "numerical_features = ['tenure', 'MonthlyCharges', 'TotalCharges']\n",
        "categorical_features = ['gender', 'SeniorCitizen', 'Partner', 'Dependents',\n",
        "                        'PhoneService', 'MultipleLines', 'InternetService',\n",
        "                        'OnlineSecurity', 'OnlineBackup', 'DeviceProtection',\n",
        "                        'TechSupport', 'StreamingTV', 'StreamingMovies',\n",
        "                        'Contract', 'PaperlessBilling', 'PaymentMethod']\n",
        "\n",
        "# One-hot encode categorical variables\n",
        "df_encoded = pd.get_dummies(df, columns=categorical_features, drop_first=True)\n",
        "\n",
        "# Feature scaling\n",
        "scaler = StandardScaler()\n",
        "df_encoded[numerical_features] = scaler.fit_transform(df_encoded[numerical_features])\n",
        "\n",
        "# Prepare features and target variable\n",
        "X = df_encoded.drop(['customerID', 'Churn'], axis=1)\n",
        "y = df_encoded['Churn']\n",
        "\n",
        "# Check the distribution of the target variable\n",
        "print(\"\\nOriginal class distribution:\")\n",
        "print(y.value_counts())\n",
        "\n",
        "# Split the data into training and test sets using stratified sampling\n",
        "X_train, X_test, y_train, y_test = train_test_split(\n",
        "    X, y, test_size=0.2, stratify=y, random_state=42\n",
        ")\n",
        "\n",
        "# Check the distribution in the training set\n",
        "print(\"\\nTraining set class distribution:\")\n",
        "print(y_train.value_counts())\n",
        "\n",
        "# Check the distribution in the test set\n",
        "print(\"\\nTest set class distribution:\")\n",
        "print(y_test.value_counts())\n",
        "\n",
        "# Initialize the logistic regression model with class_weight='balanced'\n",
        "log_reg = LogisticRegression(max_iter=1000, class_weight='balanced', solver='liblinear')\n",
        "\n",
        "# Define the parameter grid for hyperparameter tuning\n",
        "param_grid = {\n",
        "    'C': [0.01, 0.1, 1, 10, 100],\n",
        "    'penalty': ['l1', 'l2'],\n",
        "    'solver': ['liblinear']\n",
        "}\n",
        "\n",
        "# Initialize GridSearchCV\n",
        "grid_search = GridSearchCV(estimator=log_reg, param_grid=param_grid, scoring='roc_auc', cv=5, n_jobs=-1)\n",
        "\n",
        "# Fit the model to the training data\n",
        "grid_search.fit(X_train, y_train)\n",
        "\n",
        "# Best parameters from GridSearchCV\n",
        "print(\"\\nBest parameters found:\", grid_search.best_params_)\n",
        "\n",
        "# Use the best estimator from GridSearchCV\n",
        "best_log_reg_model = grid_search.best_estimator_\n",
        "\n",
        "# Predict on the test set\n",
        "y_pred_log = best_log_reg_model.predict(X_test)\n",
        "y_pred_proba = best_log_reg_model.predict_proba(X_test)[:, 1]\n",
        "\n",
        "# Evaluate the model using classification metrics\n",
        "print(\"\\nAccuracy:\", accuracy_score(y_test, y_pred_log))\n",
        "print(\"AUC:\", roc_auc_score(y_test, y_pred_proba))\n",
        "print(\"\\nClassification Report:\\n\", classification_report(y_test, y_pred_log))\n",
        "print(\"Confusion Matrix:\\n\", confusion_matrix(y_test, y_pred_log))"
      ]
    },
    {
      "cell_type": "markdown",
      "metadata": {
        "id": "293faf0a"
      },
      "source": [
        "Next, I will treat churn as a binary variable and build a logistic regression model to predict the probability of churn. I will interpret the coefficients and use appropriate metrics to evaluate the model's performance.\n",
        "    "
      ]
    },
    {
      "cell_type": "code",
      "execution_count": 55,
      "metadata": {
        "id": "4ea0e5ac",
        "outputId": "306d3619-60d4-40ec-adaa-4bba9e93ac7b"
      },
      "outputs": [
        {
          "name": "stdout",
          "output_type": "stream",
          "text": [
            "Logistic Regression AUC: 0.8419979849647369\n",
            "Logistic Regression Accuracy: 0.8055358410220014\n",
            "Logistic Regression Coefficients: \n",
            "                                        Coefficient\n",
            "tenure                                   -1.239793\n",
            "MonthlyCharges                           -0.495779\n",
            "TotalCharges                              0.509188\n",
            "gender_Male                               0.021771\n",
            "SeniorCitizen_1                           0.146006\n",
            "Partner_Yes                               0.020953\n",
            "Dependents_Yes                           -0.226059\n",
            "PhoneService_Yes                         -0.113063\n",
            "MultipleLines_No phone service            0.115419\n",
            "MultipleLines_Yes                         0.367838\n",
            "InternetService_Fiber optic               1.207241\n",
            "InternetService_No                       -0.176330\n",
            "OnlineSecurity_No internet service       -0.176330\n",
            "OnlineSecurity_Yes                       -0.343530\n",
            "OnlineBackup_No internet service         -0.176330\n",
            "OnlineBackup_Yes                         -0.093716\n",
            "DeviceProtection_No internet service     -0.176330\n",
            "DeviceProtection_Yes                      0.040339\n",
            "TechSupport_No internet service          -0.176330\n",
            "TechSupport_Yes                          -0.293719\n",
            "StreamingTV_No internet service          -0.176330\n",
            "StreamingTV_Yes                           0.385904\n",
            "StreamingMovies_No internet service      -0.176330\n",
            "StreamingMovies_Yes                       0.386476\n",
            "Contract_One year                        -0.687107\n",
            "Contract_Two year                        -1.329410\n",
            "PaperlessBilling_Yes                      0.372227\n",
            "PaymentMethod_Credit card (automatic)    -0.033484\n",
            "PaymentMethod_Electronic check            0.383425\n",
            "PaymentMethod_Mailed check                0.072370\n"
          ]
        }
      ],
      "source": [
        "# Build the logistic regression model\n",
        "log_reg_model = LogisticRegression(max_iter=1000)\n",
        "log_reg_model.fit(X_train, y_train)\n",
        "\n",
        "# Predict probabilities on test set\n",
        "y_pred_prob = log_reg_model.predict_proba(X_test)[:, 1]\n",
        "y_pred_log = log_reg_model.predict(X_test)\n",
        "\n",
        "# Evaluate the model\n",
        "roc_auc = roc_auc_score(y_test, y_pred_prob)\n",
        "accuracy = accuracy_score(y_test, y_pred_log)\n",
        "\n",
        "print(\"Logistic Regression AUC:\", roc_auc)\n",
        "print(\"Logistic Regression Accuracy:\", accuracy)\n",
        "\n",
        "# Coefficients interpretation\n",
        "log_coefficients = pd.DataFrame(log_reg_model.coef_[0], X.columns, columns=['Coefficient'])\n",
        "print(\"Logistic Regression Coefficients: \\n\", log_coefficients)\n"
      ]
    },
    {
      "cell_type": "markdown",
      "metadata": {
        "id": "c4f45cef"
      },
      "source": [
        "\n",
        "## 4. Generalized Additive Model (GAM)\n",
        "\n",
        "Finally, we will build a generalized additive model (GAM) to model the non-linear relationships between customer features and churn. We will interpret the model and assess its performance.\n",
        "    "
      ]
    },
    {
      "cell_type": "code",
      "execution_count": 56,
      "metadata": {
        "id": "b111a4f0",
        "outputId": "4f47814f-4486-4f9a-ffd7-7aebe7d96cd1"
      },
      "outputs": [
        {
          "name": "stderr",
          "output_type": "stream",
          "text": [
            "  0% (0 of 11) |                         | Elapsed Time: 0:00:00 ETA:  --:--:--\n"
          ]
        },
        {
          "name": "stdout",
          "output_type": "stream",
          "text": [
            "Non-numerical columns: Index([], dtype='object')\n",
            "\n",
            "Class distribution in y_test:\n",
            "0    1035\n",
            "1     374\n",
            "Name: Churn, dtype: int64\n"
          ]
        },
        {
          "name": "stderr",
          "output_type": "stream",
          "text": [
            "  9% (1 of 11) |##                       | Elapsed Time: 0:00:02 ETA:   0:00:29\n",
            " 18% (2 of 11) |####                     | Elapsed Time: 0:00:04 ETA:   0:00:21\n",
            " 27% (3 of 11) |######                   | Elapsed Time: 0:00:06 ETA:   0:00:18\n",
            " 36% (4 of 11) |#########                | Elapsed Time: 0:00:08 ETA:   0:00:15\n",
            " 45% (5 of 11) |###########              | Elapsed Time: 0:00:10 ETA:   0:00:12\n",
            " 54% (6 of 11) |#############            | Elapsed Time: 0:00:11 ETA:   0:00:09\n",
            " 63% (7 of 11) |###############          | Elapsed Time: 0:00:13 ETA:   0:00:07\n",
            " 72% (8 of 11) |##################       | Elapsed Time: 0:00:14 ETA:   0:00:05\n",
            " 81% (9 of 11) |####################     | Elapsed Time: 0:00:16 ETA:   0:00:03\n",
            " 90% (10 of 11) |#####################   | Elapsed Time: 0:00:18 ETA:   0:00:01\n",
            "100% (11 of 11) |########################| Elapsed Time: 0:00:19 Time:  0:00:19\n"
          ]
        },
        {
          "name": "stdout",
          "output_type": "stream",
          "text": [
            "\n",
            "Accuracy: 0.8105039034776437\n",
            "AUC: 0.8583817716810044\n",
            "\n",
            "Classification Report:\n",
            "               precision    recall  f1-score   support\n",
            "\n",
            "           0       0.84      0.91      0.88      1035\n",
            "           1       0.69      0.52      0.59       374\n",
            "\n",
            "    accuracy                           0.81      1409\n",
            "   macro avg       0.76      0.72      0.74      1409\n",
            "weighted avg       0.80      0.81      0.80      1409\n",
            "\n",
            "Confusion Matrix:\n",
            " [[946  89]\n",
            " [178 196]]\n"
          ]
        }
      ],
      "source": [
        "# Identify all categorical features\n",
        "categorical_features = [\n",
        "    'gender', 'SeniorCitizen', 'Partner', 'Dependents',\n",
        "    'PhoneService', 'MultipleLines', 'InternetService',\n",
        "    'OnlineSecurity', 'OnlineBackup', 'DeviceProtection',\n",
        "    'TechSupport', 'StreamingTV', 'StreamingMovies',\n",
        "    'Contract', 'PaperlessBilling', 'PaymentMethod'\n",
        "]\n",
        "\n",
        "# One-hot encode categorical variables\n",
        "df_encoded = pd.get_dummies(df, columns=categorical_features, drop_first=True)\n",
        "\n",
        "# Prepare features and target variable\n",
        "X = df_encoded.drop(['customerID', 'Churn'], axis=1)\n",
        "y = df_encoded['Churn']\n",
        "\n",
        "# Verify that all features are numerical\n",
        "non_numerical = X.select_dtypes(include=['object']).columns\n",
        "print(\"Non-numerical columns:\", non_numerical)\n",
        "\n",
        "# Separate the classes\n",
        "X_class0 = X[y == 0]\n",
        "X_class1 = X[y == 1]\n",
        "y_class0 = y[y == 0]\n",
        "y_class1 = y[y == 1]\n",
        "\n",
        "# Split each class separately\n",
        "X_train_0, X_test_0, y_train_0, y_test_0 = train_test_split(\n",
        "    X_class0, y_class0, test_size=0.2, random_state=42\n",
        ")\n",
        "X_train_1, X_test_1, y_train_1, y_test_1 = train_test_split(\n",
        "    X_class1, y_class1, test_size=0.2, random_state=42\n",
        ")\n",
        "\n",
        "# Combine the splits\n",
        "X_train = pd.concat([X_train_0, X_train_1], axis=0).reset_index(drop=True)\n",
        "X_test = pd.concat([X_test_0, X_test_1], axis=0).reset_index(drop=True)\n",
        "y_train = pd.concat([y_train_0, y_train_1], axis=0).reset_index(drop=True)\n",
        "y_test = pd.concat([y_test_0, y_test_1], axis=0).reset_index(drop=True)\n",
        "\n",
        "# Shuffle the training and test sets\n",
        "X_train, y_train = shuffle(X_train, y_train, random_state=42)\n",
        "X_test, y_test = shuffle(X_test, y_test, random_state=42)\n",
        "\n",
        "# Verify class distribution in y_test\n",
        "print(\"\\nClass distribution in y_test:\")\n",
        "print(y_test.value_counts())\n",
        "\n",
        "# Build the GAM model\n",
        "\n",
        "# For computational efficiency, use splines on selected features\n",
        "# Let's assume the first 10 features are most important\n",
        "terms = s(0)\n",
        "for i in range(1, min(10, X_train.shape[1])):\n",
        "    terms += s(i)\n",
        "\n",
        "# Add linear terms for the rest\n",
        "if X_train.shape[1] > 10:\n",
        "    for i in range(10, X_train.shape[1]):\n",
        "        terms += l(i)\n",
        "\n",
        "# Train the model\n",
        "gam = LogisticGAM(terms).gridsearch(X_train.values, y_train.values)\n",
        "\n",
        "# Predict and evaluate\n",
        "y_pred_prob = gam.predict_proba(X_test.values)\n",
        "y_pred = gam.predict(X_test.values)\n",
        "\n",
        "print(\"\\nAccuracy:\", accuracy_score(y_test, y_pred))\n",
        "print(\"AUC:\", roc_auc_score(y_test, y_pred_prob))\n",
        "print(\"\\nClassification Report:\\n\", classification_report(y_test, y_pred))\n",
        "print(\"Confusion Matrix:\\n\", confusion_matrix(y_test, y_pred))\n"
      ]
    },
    {
      "cell_type": "markdown",
      "metadata": {
        "id": "b486641e"
      },
      "source": [
        "## Model Recommendations\n",
        "\n",
        "### Model Comparison and Recommendations\n",
        "\n",
        "1. **Linear Regression**:\n",
        "   - **Strengths**: Simple and easy to interpret.\n",
        "   - **Weaknesses**: Assumes a linear relationship between features and churn, which may not hold true in reality.\n",
        "   - **Use Case**: Suitable when interpretability is a priority and when you expect linear relationships between features and churn.\n",
        "\n",
        "2. **Logistic Regression**:\n",
        "   - **Strengths**: Good for binary classification and provides probabilities for churn prediction.\n",
        "   - **Weaknesses**: Similar to linear regression, assumes a linear relationship between features and the log-odds of churn.\n",
        "   - **Use Case**: A better alternative to linear regression for classification problems like churn prediction, as it gives probabilistic outcomes.\n",
        "\n",
        "3. **Generalized Additive Model (GAM)**:\n",
        "   - **Strengths**: Captures non-linear relationships between features and churn, offering more flexibility and accuracy.\n",
        "   - **Weaknesses**: More complex to interpret than linear or logistic regression, and computationally more expensive.\n",
        "   - **Use Case**: Best when the goal is to capture complex patterns in the data, making it ideal for accurate churn prediction when interpretability is not the main concern.\n",
        "\n",
        "### Recommendation\n",
        "Based on the model comparison, the **Generalized Additive Model (GAM)** is recommended for predicting customer churn due to its ability to capture non-linear relationships and provide higher accuracy. However, if interpretability and simplicity are priorities, **Logistic Regression** is a strong alternative."
      ]
    }
  ],
  "metadata": {
    "colab": {
      "include_colab_link": true,
      "provenance": []
    },
    "kernelspec": {
      "display_name": "Python 3",
      "name": "python3"
    },
    "language_info": {
      "codemirror_mode": {
        "name": "ipython",
        "version": 3
      },
      "file_extension": ".py",
      "mimetype": "text/x-python",
      "name": "python",
      "nbconvert_exporter": "python",
      "pygments_lexer": "ipython3",
      "version": "3.8.8"
    }
  },
  "nbformat": 4,
  "nbformat_minor": 0
}
