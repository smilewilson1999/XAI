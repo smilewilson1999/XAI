{
 "cells": [
  {
   "cell_type": "markdown",
   "metadata": {},
   "source": [
    "# AIPI 590 - XAI | Assignment #04\n",
    "### Description\n",
    "### Your Name: Wilson Tseng\n",
    "\n",
    "#### Assignment 4 - Interpretable ML II:\n",
    "[GitHub Link](https://github.com/smilewilson1999/XAI/tree/e66c325e2253ac8d8fdefea19e8872392494d2d4/Assignment%204%20-%20Interpretable%20ML%20II)\n",
    "\n",
    "\n",
    "[![Open In Collab](https://colab.research.google.com/assets/colab-badge.svg)](https://colab.research.google.com/github/smilewilson1999/XAI/blob/main/Assignment%204%20-%20Interpretable%20ML%20II/Interpretable_ML_Test_2.ipynb)"
   ]
  },
  {
   "cell_type": "markdown",
   "metadata": {},
   "source": [
    "## DO:\n",
    "* Use markdown and comments effectively\n",
    "* Pull out classes and functions into scripts\n",
    "* Ensure cells are executed in order and avoid skipping cells to maintain reproducibility\n",
    "* Choose the appropriate runtime (i.e. GPU) if needed\n",
    "* If you are using a dataset that is too large to put in your GitHub repository, you must either pull it in via Hugging Face Datasets or put it in an S3 bucket and use boto3 to pull from there.\n",
    "* Use versioning on all installs (ie pandas==1.3.0) to ensure consistency across versions\n",
    "* Implement error handling where appropriate\n",
    "\n",
    "## DON'T:\n",
    "* Absolutely NO sending us Google Drive links or zip files with data (see above).\n",
    "* Load packages throughout the notebook. Please load all packages in the first code cell in your notebook.\n",
    "* Add API keys or tokens directly to your notebook!!!! EVER!!!\n",
    "* Include cells that you used for testing or debugging. Delete these before submission\n",
    "* Have errors rendered in your notebook. Fix errors prior to submission."
   ]
  },
  {
   "cell_type": "code",
   "execution_count": null,
   "metadata": {},
   "outputs": [],
   "source": [
    "# Please use this to connect your GitHub repository to your Google Colab notebook\n",
    "# Connects to any needed files from GitHub and Google Drive\n",
    "import os\n",
    "\n",
    "# Remove Colab default sample_data\n",
    "!rm -r ./sample_data\n",
    "\n",
    "# Clone GitHub files to colab workspace\n",
    "repo_name = \"XAI\" # Change to your repo name\n",
    "git_path = 'https://github.com/smilewilson1999/XAI.git' #Change to your path\n",
    "!git clone \"{git_path}\"\n",
    "\n",
    "# Install dependencies from requirements.txt file\n",
    "#!pip install -r \"{os.path.join(repo_name,'requirements.txt')}\" #Add if using requirements.txt\n",
    "\n",
    "# Change working directory to location of notebook\n",
    "notebook_dir = 'Assignment 4 - Interpretable ML II'\n",
    "path_to_notebook = os.path.join(repo_name, notebook_dir)\n",
    "%cd \"{path_to_notebook}\"\n",
    "%ls"
   ]
  },
  {
   "cell_type": "code",
   "execution_count": 2,
   "metadata": {},
   "outputs": [
    {
     "name": "stdout",
     "output_type": "stream",
     "text": [
      "Collecting imodels\n",
      "  Downloading imodels-1.4.1-py3-none-any.whl.metadata (30 kB)\n",
      "Requirement already satisfied: matplotlib in /Users/wilson/opt/anaconda3/lib/python3.8/site-packages (from imodels) (3.4.2)\n",
      "Collecting mlxtend>=0.18.0 (from imodels)\n",
      "  Downloading mlxtend-0.23.1-py3-none-any.whl.metadata (7.3 kB)\n",
      "Requirement already satisfied: numpy in /Users/wilson/opt/anaconda3/lib/python3.8/site-packages (from imodels) (1.24.4)\n",
      "Requirement already satisfied: pandas in /Users/wilson/opt/anaconda3/lib/python3.8/site-packages (from imodels) (1.2.3)\n",
      "Requirement already satisfied: requests in /Users/wilson/opt/anaconda3/lib/python3.8/site-packages (from imodels) (2.26.0)\n",
      "Requirement already satisfied: scipy in /Users/wilson/opt/anaconda3/lib/python3.8/site-packages (from imodels) (1.10.1)\n",
      "Requirement already satisfied: scikit-learn in /Users/wilson/opt/anaconda3/lib/python3.8/site-packages (from imodels) (1.3.2)\n",
      "Requirement already satisfied: tqdm in /Users/wilson/opt/anaconda3/lib/python3.8/site-packages (from imodels) (4.62.2)\n",
      "Requirement already satisfied: joblib>=0.13.2 in /Users/wilson/opt/anaconda3/lib/python3.8/site-packages (from mlxtend>=0.18.0->imodels) (1.4.2)\n",
      "Requirement already satisfied: cycler>=0.10 in /Users/wilson/opt/anaconda3/lib/python3.8/site-packages (from matplotlib->imodels) (0.10.0)\n",
      "Requirement already satisfied: kiwisolver>=1.0.1 in /Users/wilson/opt/anaconda3/lib/python3.8/site-packages (from matplotlib->imodels) (1.3.1)\n",
      "Requirement already satisfied: pillow>=6.2.0 in /Users/wilson/opt/anaconda3/lib/python3.8/site-packages (from matplotlib->imodels) (8.3.1)\n",
      "Requirement already satisfied: pyparsing>=2.2.1 in /Users/wilson/opt/anaconda3/lib/python3.8/site-packages (from matplotlib->imodels) (2.4.7)\n",
      "Requirement already satisfied: python-dateutil>=2.7 in /Users/wilson/opt/anaconda3/lib/python3.8/site-packages (from matplotlib->imodels) (2.8.2)\n",
      "Requirement already satisfied: pytz>=2017.3 in /Users/wilson/opt/anaconda3/lib/python3.8/site-packages (from pandas->imodels) (2021.3)\n",
      "Requirement already satisfied: threadpoolctl>=2.0.0 in /Users/wilson/opt/anaconda3/lib/python3.8/site-packages (from scikit-learn->imodels) (2.2.0)\n",
      "Requirement already satisfied: urllib3<1.27,>=1.21.1 in /Users/wilson/opt/anaconda3/lib/python3.8/site-packages (from requests->imodels) (1.26.7)\n",
      "Requirement already satisfied: certifi>=2017.4.17 in /Users/wilson/opt/anaconda3/lib/python3.8/site-packages (from requests->imodels) (2021.5.30)\n",
      "Requirement already satisfied: charset-normalizer~=2.0.0 in /Users/wilson/opt/anaconda3/lib/python3.8/site-packages (from requests->imodels) (2.0.4)\n",
      "Requirement already satisfied: idna<4,>=2.5 in /Users/wilson/opt/anaconda3/lib/python3.8/site-packages (from requests->imodels) (3.2)\n",
      "Requirement already satisfied: six in /Users/wilson/opt/anaconda3/lib/python3.8/site-packages (from cycler>=0.10->matplotlib->imodels) (1.16.0)\n",
      "Downloading imodels-1.4.1-py3-none-any.whl (231 kB)\n",
      "\u001b[2K   \u001b[90m━━━━━━━━━━━━━━━━━━━━━━━━━━━━━━━━━━━━━━━━\u001b[0m \u001b[32m231.2/231.2 kB\u001b[0m \u001b[31m2.7 MB/s\u001b[0m eta \u001b[36m0:00:00\u001b[0ma \u001b[36m0:00:01\u001b[0m\n",
      "\u001b[?25hDownloading mlxtend-0.23.1-py3-none-any.whl (1.4 MB)\n",
      "\u001b[2K   \u001b[90m━━━━━━━━━━━━━━━━━━━━━━━━━━━━━━━━━━━━━━━━\u001b[0m \u001b[32m1.4/1.4 MB\u001b[0m \u001b[31m8.3 MB/s\u001b[0m eta \u001b[36m0:00:00\u001b[0ma \u001b[36m0:00:01\u001b[0mm\n",
      "\u001b[?25h\u001b[33mDEPRECATION: pyodbc 4.0.0-unsupported has a non-standard version number. pip 24.1 will enforce this behaviour change. A possible replacement is to upgrade to a newer version of pyodbc or contact the author to suggest that they release a version with a conforming version number. Discussion can be found at https://github.com/pypa/pip/issues/12063\u001b[0m\u001b[33m\n",
      "\u001b[0mInstalling collected packages: mlxtend, imodels\n",
      "Successfully installed imodels-1.4.1 mlxtend-0.23.1\n",
      "\n",
      "\u001b[1m[\u001b[0m\u001b[34;49mnotice\u001b[0m\u001b[1;39;49m]\u001b[0m\u001b[39;49m A new release of pip is available: \u001b[0m\u001b[31;49m24.0\u001b[0m\u001b[39;49m -> \u001b[0m\u001b[32;49m24.2\u001b[0m\n",
      "\u001b[1m[\u001b[0m\u001b[34;49mnotice\u001b[0m\u001b[1;39;49m]\u001b[0m\u001b[39;49m To update, run: \u001b[0m\u001b[32;49mpip install --upgrade pip\u001b[0m\n"
     ]
    }
   ],
   "source": [
    "!pip install imodels"
   ]
  },
  {
   "cell_type": "code",
   "execution_count": 14,
   "metadata": {},
   "outputs": [],
   "source": [
    "import numpy as np\n",
    "import pandas as pd\n",
    "from sklearn.model_selection import train_test_split\n",
    "from sklearn.preprocessing import KBinsDiscretizer\n",
    "from imodels import RuleFitRegressor, GreedyRuleListClassifier, BayesianRuleListClassifier\n",
    "import matplotlib.pyplot as plt\n",
    "import seaborn as sns"
   ]
  },
  {
   "cell_type": "code",
   "execution_count": 5,
   "metadata": {},
   "outputs": [
    {
     "name": "stdout",
     "output_type": "stream",
     "text": [
      "                            track_name    artist(s)_name  artist_count  \\\n",
      "0  Seven (feat. Latto) (Explicit Ver.)  Latto, Jung Kook             2   \n",
      "1                                 LALA       Myke Towers             1   \n",
      "2                              vampire    Olivia Rodrigo             1   \n",
      "3                         Cruel Summer      Taylor Swift             1   \n",
      "4                       WHERE SHE GOES         Bad Bunny             1   \n",
      "\n",
      "   released_year  released_month  released_day  in_spotify_playlists  \\\n",
      "0           2023               7            14                   553   \n",
      "1           2023               3            23                  1474   \n",
      "2           2023               6            30                  1397   \n",
      "3           2019               8            23                  7858   \n",
      "4           2023               5            18                  3133   \n",
      "\n",
      "   in_spotify_charts    streams  in_apple_playlists  ...  key   mode  \\\n",
      "0                147  141381703                  43  ...    B  Major   \n",
      "1                 48  133716286                  48  ...   C#  Major   \n",
      "2                113  140003974                  94  ...    F  Major   \n",
      "3                100  800840817                 116  ...    A  Major   \n",
      "4                 50  303236322                  84  ...    A  Minor   \n",
      "\n",
      "   danceability_% valence_%  energy_% acousticness_% instrumentalness_%  \\\n",
      "0              80        89        83             31                  0   \n",
      "1              71        61        74              7                  0   \n",
      "2              51        32        53             17                  0   \n",
      "3              55        58        72             11                  0   \n",
      "4              65        23        80             14                 63   \n",
      "\n",
      "   liveness_%  speechiness_%  \\\n",
      "0           8              4   \n",
      "1          10              4   \n",
      "2          31              6   \n",
      "3          11             15   \n",
      "4          11              6   \n",
      "\n",
      "                                           cover_url  \n",
      "0                                          Not Found  \n",
      "1  https://i.scdn.co/image/ab67616d0000b2730656d5...  \n",
      "2  https://i.scdn.co/image/ab67616d0000b273e85259...  \n",
      "3  https://i.scdn.co/image/ab67616d0000b273e787cf...  \n",
      "4  https://i.scdn.co/image/ab67616d0000b273ab5c9c...  \n",
      "\n",
      "[5 rows x 25 columns]\n",
      "\n",
      "Column names:\n",
      "Index(['track_name', 'artist(s)_name', 'artist_count', 'released_year',\n",
      "       'released_month', 'released_day', 'in_spotify_playlists',\n",
      "       'in_spotify_charts', 'streams', 'in_apple_playlists', 'in_apple_charts',\n",
      "       'in_deezer_playlists', 'in_deezer_charts', 'in_shazam_charts', 'bpm',\n",
      "       'key', 'mode', 'danceability_%', 'valence_%', 'energy_%',\n",
      "       'acousticness_%', 'instrumentalness_%', 'liveness_%', 'speechiness_%',\n",
      "       'cover_url'],\n",
      "      dtype='object')\n"
     ]
    }
   ],
   "source": [
    "# Load the data\n",
    "data = pd.read_csv('Spotify Most Streamed Songs.csv')\n",
    "\n",
    "# Display the first few rows and column names\n",
    "print(data.head())\n",
    "print(\"\\nColumn names:\")\n",
    "print(data.columns)"
   ]
  },
  {
   "cell_type": "code",
   "execution_count": 10,
   "metadata": {},
   "outputs": [
    {
     "name": "stdout",
     "output_type": "stream",
     "text": [
      "0    141381703.0\n",
      "1    133716286.0\n",
      "2    140003974.0\n",
      "3    800840817.0\n",
      "4    303236322.0\n",
      "Name: streams, dtype: float64\n",
      "float64\n"
     ]
    }
   ],
   "source": [
    "# Convert 'streams' to numeric\n",
    "data['streams'] = pd.to_numeric(data['streams'], errors='coerce')\n",
    "\n",
    "print(data['streams'].head())\n",
    "print(data['streams'].dtype)"
   ]
  },
  {
   "cell_type": "code",
   "execution_count": 26,
   "metadata": {},
   "outputs": [
    {
     "data": {
      "image/png": "[encoded data removed]",
      "text/plain": [
       "<Figure size 864x576 with 1 Axes>"
      ]
     },
     "metadata": {
      "needs_background": "light"
     },
     "output_type": "display_data"
    },
    {
     "name": "stdout",
     "output_type": "stream",
     "text": [
      "Top 10 Features from RuleFitRegressor:\n",
      "Feature 1: in_spotify_playlists (Importance: 0.6960)\n",
      "Feature 2: released_year (Importance: 0.3355)\n",
      "Feature 3: in_apple_playlists (Importance: 0.0809)\n",
      "Feature 4: in_spotify_charts (Importance: 0.0520)\n",
      "Feature 5: in_apple_charts (Importance: 0.0151)\n",
      "Feature 6: artist_count (Importance: 0.0000)\n",
      "Feature 7: energy_% (Importance: 0.0000)\n",
      "Feature 8: speechiness_% (Importance: 0.0000)\n",
      "Feature 9: liveness_% (Importance: 0.0000)\n",
      "Feature 10: instrumentalness_% (Importance: 0.0000)\n"
     ]
    },
    {
     "name": "stderr",
     "output_type": "stream",
     "text": [
      "/Users/wilson/opt/anaconda3/lib/python3.8/site-packages/sklearn/preprocessing/_discretization.py:322: UserWarning: Bins whose width are too small (i.e., <= 1e-8) in feature 0 are removed. Consider decreasing the number of bins.\n",
      "  warnings.warn(\n",
      "/Users/wilson/opt/anaconda3/lib/python3.8/site-packages/sklearn/preprocessing/_discretization.py:322: UserWarning: Bins whose width are too small (i.e., <= 1e-8) in feature 8 are removed. Consider decreasing the number of bins.\n",
      "  warnings.warn(\n",
      "/Users/wilson/opt/anaconda3/lib/python3.8/site-packages/sklearn/preprocessing/_discretization.py:322: UserWarning: Bins whose width are too small (i.e., <= 1e-8) in feature 14 are removed. Consider decreasing the number of bins.\n",
      "  warnings.warn(\n",
      "/Users/wilson/opt/anaconda3/lib/python3.8/site-packages/sklearn/preprocessing/_discretization.py:322: UserWarning: Bins whose width are too small (i.e., <= 1e-8) in feature 17 are removed. Consider decreasing the number of bins.\n",
      "  warnings.warn(\n",
      "/Users/wilson/opt/anaconda3/lib/python3.8/site-packages/mlxtend/frequent_patterns/fpcommon.py:109: DeprecationWarning: DataFrames with non-bool types result in worse computationalperformance and their support might be discontinued in the future.Please use a DataFrame with bool type\n",
      "  warnings.warn(\n"
     ]
    },
    {
     "name": "stdout",
     "output_type": "stream",
     "text": [
      "Models fitted successfully!\n",
      "\n",
      "GreedyRuleListClassifier Rules:\n",
      "Rule 1: {'col': 'released_day_high', 'index_col': 7, 'cutoff': 0.5, 'val': 0.1394736842105263, 'flip': True, 'val_right': 0.868766404199475, 'num_pts': 761, 'num_pts_right': 381}\n",
      "Rule 2: {'col': 'released_year_low', 'index_col': 2, 'cutoff': 0.5, 'val': 0.09259259259259259, 'flip': True, 'val_right': 0.4107142857142857, 'num_pts': 380, 'num_pts_right': 56}\n",
      "Rule 3: {'col': 'artist_count_high0', 'index_col': 10, 'cutoff': 0.5, 'val': 0.03550295857988166, 'flip': False, 'val_right': 0.15483870967741936, 'num_pts': 324, 'num_pts_right': 155}\n",
      "Rule 4: {'col': 'artist_count_high8', 'index_col': 18, 'cutoff': 0.5, 'val': 0.0, 'flip': True, 'val_right': 0.06818181818181818, 'num_pts': 169, 'num_pts_right': 88}\n",
      "Rule 5: {'val': 0.0, 'num_pts': 81}\n",
      "Accuracy: 0.8429\n",
      "\n",
      "BayesianRuleListClassifier Rules:\n",
      "Rule 1: released_year_low > 0.5 and released_day_high > 0.5\n",
      "Rule 2: released_day_high > 0.5\n",
      "Rule 3: released_year_low > 0.5 and in_spotify_playlists_high > 0.5\n",
      "Rule 4: released_year_low2 > 0.5\n",
      "Accuracy: 0.8272\n"
     ]
    }
   ],
   "source": [
    "data = data.dropna(subset=['streams'])\n",
    "\n",
    "# Log transform the target variable\n",
    "# A logarithmic transformation is applied to the target variable 'streams' because streaming data usually exhibits a long-tailed distribution\n",
    "data['log_streams'] = np.log1p(data['streams'])\n",
    "\n",
    "# Add interaction feature: \"is_new_song_by_popular_artist\"\n",
    "data['is_new_song_by_popular_artist'] = ((2023 - data['released_year'] <= 2) & (data['in_spotify_playlists'] > data['in_spotify_playlists'].median())).astype(int)\n",
    "\n",
    "# Choose 'streams' as the target variable\n",
    "target_column = 'log_streams'\n",
    "X = data.drop(['streams', target_column], axis=1)\n",
    "y = data[target_column]\n",
    "\n",
    "# Handle non-numeric columns\n",
    "X = X.select_dtypes(include=[np.number])\n",
    "\n",
    "X_train, X_test, y_train, y_test = train_test_split(X, y, test_size=0.2, random_state=42)\n",
    "\n",
    "# Model 1: RuleFitRegressor\n",
    "rulefit = RuleFitRegressor(random_state=42)\n",
    "rulefit.fit(X_train, y_train)\n",
    "\n",
    "# Calculate feature importance based on prediction changes\n",
    "importances = []\n",
    "baseline_pred = rulefit.predict(X_train)\n",
    "for col in X_train.columns:\n",
    "    X_temp = X_train.copy()\n",
    "    X_temp[col] = X_temp[col].mean()\n",
    "    new_pred = rulefit.predict(X_temp)\n",
    "    importance = np.mean(np.abs(new_pred - baseline_pred))\n",
    "    importances.append(importance)\n",
    "\n",
    "# Create feature importance dataframe\n",
    "feature_importance = pd.DataFrame({\n",
    "    'feature': X_train.columns,\n",
    "    'importance': importances\n",
    "})\n",
    "feature_importance = feature_importance.sort_values('importance', ascending=False).head(10)\n",
    "\n",
    "# Visualize feature importance\n",
    "plt.figure(figsize=(12, 8))\n",
    "sns.barplot(x='importance', y='feature', data=feature_importance)\n",
    "plt.title('Top 10 Feature Importances in RuleFitRegressor')\n",
    "plt.tight_layout()\n",
    "plt.show()\n",
    "\n",
    "# Print top features\n",
    "print(\"Top 10 Features from RuleFitRegressor:\")\n",
    "for i, (_, feature) in enumerate(feature_importance.iterrows(), 1):\n",
    "    print(f\"Feature {i}: {feature['feature']} (Importance: {feature['importance']:.4f})\")\n",
    "\n",
    "# Discretize features for classification models\n",
    "discretizer = KBinsDiscretizer(n_bins=2, encode='onehot-dense', strategy='quantile')\n",
    "X_train_disc = discretizer.fit_transform(X_train)\n",
    "X_test_disc = discretizer.transform(X_test)\n",
    "\n",
    "# Create feature name mapping\n",
    "feature_names = []\n",
    "for feature in X_train.columns:\n",
    "    feature_names.extend([f\"{feature}_low\", f\"{feature}_high\"])\n",
    "\n",
    "# Bin the target variable\n",
    "y_median = y.median()\n",
    "y_binned = (y > y_median).astype(int)\n",
    "y_train_binned = (y_train > y_median).astype(int)\n",
    "\n",
    "# Model 2: GreedyRuleListClassifier\n",
    "greedyrule = GreedyRuleListClassifier(max_depth=5)\n",
    "greedyrule.fit(X_train_disc, y_train_binned)\n",
    "\n",
    "# Model 3: BayesianRuleListClassifier\n",
    "bayesrule = BayesianRuleListClassifier()\n",
    "bayesrule.fit(X_train_disc, y_train_binned)\n",
    "\n",
    "print(\"Models fitted successfully!\")\n",
    "\n",
    "# GreedyRuleListClassifier\n",
    "print(\"\\nGreedyRuleListClassifier Rules:\")\n",
    "for i, rule in enumerate(greedyrule.rules_):\n",
    "    rule_str = str(rule)\n",
    "    for j, name in enumerate(feature_names):\n",
    "        rule_str = rule_str.replace(f'X{j}', name)\n",
    "    print(f\"Rule {i+1}: {rule_str}\")\n",
    "print(f\"Accuracy: {greedyrule.score(X_test_disc, (y_test > y_median).astype(int)):.4f}\")\n",
    "\n",
    "# BayesianRuleListClassifier\n",
    "print(\"\\nBayesianRuleListClassifier Rules:\")\n",
    "for i, rule in enumerate(bayesrule.rules_):\n",
    "    rule_str = str(rule)\n",
    "    for j, name in enumerate(feature_names):\n",
    "        rule_str = rule_str.replace(f'X_{j}', name)\n",
    "    print(f\"Rule {i+1}: {rule_str}\")\n",
    "print(f\"Accuracy: {bayesrule.score(X_test_disc, (y_test > y_median).astype(int)):.4f}\")"
   ]
  },
  {
   "cell_type": "markdown",
   "metadata": {},
   "source": [
    "## For RuleFitRegressor Rules:\n",
    "* The most important feature is \"in_spotify_playlists\", which is intuitively consistent with the fact that songs in more playlists are likely to get more streaming play."
   ]
  },
  {
   "cell_type": "markdown",
   "metadata": {},
   "source": [
    "## For GreedyRuleListClassifier Rules:\n",
    "* Rule 1: For songs with fewer Spotify playlist appearances, the probability of success is about 14%; otherwise it is about 87%.\n",
    "* Rule 2: For songs with a high number of Spotify playlist appearances, the probability of success is about 41% if the year of release is recent; otherwise it is about 9%.\n",
    "* Rules 3 and 4: relate to the number of artists, but have a relatively small impact."
   ]
  },
  {
   "cell_type": "markdown",
   "metadata": {},
   "source": [
    "## For BayesianRuleListClassifier Rules:\n",
    "* Rule 1: Songs are more likely to be successful if they have an earlier release year and a later release date.\n",
    "* Rule 2: Songs with later release dates are more likely to be successful.\n",
    "* Rule 3: Songs with an earlier release year but a high number of appearances in Spotify playlists are more likely to be successful.\n",
    "* Rule 4: Release year is an important factor."
   ]
  },
  {
   "cell_type": "code",
   "execution_count": 28,
   "metadata": {},
   "outputs": [
    {
     "name": "stdout",
     "output_type": "stream",
     "text": [
      "Collecting graphviz\n",
      "  Downloading graphviz-0.20.3-py3-none-any.whl.metadata (12 kB)\n",
      "Downloading graphviz-0.20.3-py3-none-any.whl (47 kB)\n",
      "\u001b[2K   \u001b[90m━━━━━━━━━━━━━━━━━━━━━━━━━━━━━━━━━━━━━━━━\u001b[0m \u001b[32m47.1/47.1 kB\u001b[0m \u001b[31m903.9 kB/s\u001b[0m eta \u001b[36m0:00:00\u001b[0m\u001b[36m0:00:01\u001b[0m\n",
      "\u001b[?25h\u001b[33mDEPRECATION: pyodbc 4.0.0-unsupported has a non-standard version number. pip 24.1 will enforce this behaviour change. A possible replacement is to upgrade to a newer version of pyodbc or contact the author to suggest that they release a version with a conforming version number. Discussion can be found at https://github.com/pypa/pip/issues/12063\u001b[0m\u001b[33m\n",
      "\u001b[0mInstalling collected packages: graphviz\n",
      "Successfully installed graphviz-0.20.3\n",
      "\n",
      "\u001b[1m[\u001b[0m\u001b[34;49mnotice\u001b[0m\u001b[1;39;49m]\u001b[0m\u001b[39;49m A new release of pip is available: \u001b[0m\u001b[31;49m24.0\u001b[0m\u001b[39;49m -> \u001b[0m\u001b[32;49m24.2\u001b[0m\n",
      "\u001b[1m[\u001b[0m\u001b[34;49mnotice\u001b[0m\u001b[1;39;49m]\u001b[0m\u001b[39;49m To update, run: \u001b[0m\u001b[32;49mpip install --upgrade pip\u001b[0m\n"
     ]
    }
   ],
   "source": [
    "!pip install graphviz"
   ]
  },
  {
   "cell_type": "code",
   "execution_count": 40,
   "metadata": {},
   "outputs": [],
   "source": [
    "from graphviz import Digraph"
   ]
  },
  {
   "cell_type": "code",
   "execution_count": 41,
   "metadata": {},
   "outputs": [
    {
     "name": "stdout",
     "output_type": "stream",
     "text": [
      "RuleFitRegressor visual created: rulefit_visual.png\n"
     ]
    }
   ],
   "source": [
    "def create_rulefit_visual():\n",
    "    dot = Digraph(comment='RuleFitRegressor')\n",
    "    dot.attr(rankdir='LR', size='10,5')\n",
    "\n",
    "    # Add nodes with different shapes\n",
    "    dot.node('A', 'Input Data', shape='folder')\n",
    "    dot.node('B', 'Train Ensemble of Trees', shape='box')\n",
    "    dot.node('C', 'Extract Rules from Trees', shape='component')\n",
    "    dot.node('D', 'Generate Linear Features', shape='component')\n",
    "    dot.node('E', 'Combine Rules and Linear Features', shape='box')\n",
    "    dot.node('F', 'Fit Regularized Linear Model', shape='box')\n",
    "    dot.node('G', 'Output Predictions', shape='cds')\n",
    "\n",
    "    # Add edges\n",
    "    dot.edge('A', 'B', label='Features')\n",
    "    dot.edge('B', 'C')\n",
    "    dot.edge('A', 'D')\n",
    "    dot.edge('C', 'E')\n",
    "    dot.edge('D', 'E')\n",
    "    dot.edge('E', 'F')\n",
    "    dot.edge('F', 'G')\n",
    "\n",
    "    # Save the graph\n",
    "    dot.render('rulefit_visual', format='png', cleanup=True)\n",
    "    print(\"RuleFitRegressor visual created: rulefit_visual.png\")\n",
    "\n",
    "# Call the function to create the visual\n",
    "create_rulefit_visual()\n"
   ]
  },
  {
   "cell_type": "code",
   "execution_count": 42,
   "metadata": {},
   "outputs": [
    {
     "name": "stdout",
     "output_type": "stream",
     "text": [
      "GreedyRuleListClassifier visual created: greedy_rulelist_visual.png\n"
     ]
    }
   ],
   "source": [
    "def create_greedy_rulelist_visual():\n",
    "    dot = Digraph(comment='GreedyRuleListClassifier')\n",
    "    dot.attr(rankdir='LR', size='10,5')\n",
    "\n",
    "    # Add nodes with different shapes\n",
    "    dot.node('A', 'Input Data', shape='folder')\n",
    "    dot.node('B', 'Initialize Empty Rule List', shape='ellipse')\n",
    "    dot.node('C', 'Search for Best Rule', shape='diamond')\n",
    "    dot.node('D', 'Add Rule to List', shape='ellipse')\n",
    "    dot.node('E', 'Remove Covered Instances', shape='box')\n",
    "    dot.node('F', 'Meet Stopping Criteria?', shape='diamond')\n",
    "    dot.node('G', 'Output Final Rule List', shape='cds')\n",
    "    dot.node('H', 'Stop', shape='doublecircle')\n",
    "\n",
    "    # Add edges\n",
    "    dot.edge('A', 'B')\n",
    "    dot.edge('B', 'C')\n",
    "    dot.edge('C', 'D')\n",
    "    dot.edge('D', 'E')\n",
    "    dot.edge('E', 'F')\n",
    "    dot.edge('F', 'C', label='No')\n",
    "    dot.edge('F', 'G', label='Yes')\n",
    "    dot.edge('G', 'H')\n",
    "\n",
    "    # Save the graph\n",
    "    dot.render('greedy_rulelist_visual', format='png', cleanup=True)\n",
    "    print(\"GreedyRuleListClassifier visual created: greedy_rulelist_visual.png\")\n",
    "\n",
    "# Call the function to create the visual\n",
    "create_greedy_rulelist_visual()"
   ]
  },
  {
   "cell_type": "code",
   "execution_count": 43,
   "metadata": {},
   "outputs": [
    {
     "name": "stdout",
     "output_type": "stream",
     "text": [
      "BayesianRuleListClassifier visual created: bayesian_rulelist_visual.png\n"
     ]
    }
   ],
   "source": [
    "def create_bayesian_rulelist_visual():\n",
    "    dot = Digraph(comment='BayesianRuleListClassifier')\n",
    "    dot.attr(rankdir='LR', size='12,6')\n",
    "\n",
    "    # Add nodes with different shapes\n",
    "    dot.node('A', 'Input Data', shape='folder')\n",
    "    dot.node('B', 'Generate Candidate Rules', shape='box')\n",
    "    dot.node('C', 'Define Prior Distributions', shape='tab')\n",
    "    dot.node('D', 'Initialize MCMC Sampling', shape='ellipse')\n",
    "    dot.node('E', 'Sample Rule Lists', shape='component')\n",
    "    dot.node('F', 'Compute Posterior Probability', shape='box')\n",
    "    dot.node('G', 'Update Rule List Samples', shape='ellipse')\n",
    "    dot.node('H', 'Converged?', shape='diamond')\n",
    "    dot.node('I', 'Output Probabilistic Rule List', shape='cds')\n",
    "    dot.node('J', 'Stop', shape='doublecircle')\n",
    "\n",
    "    # Add edges\n",
    "    dot.edge('A', 'B')\n",
    "    dot.edge('B', 'C')\n",
    "    dot.edge('C', 'D')\n",
    "    dot.edge('D', 'E')\n",
    "    dot.edge('E', 'F')\n",
    "    dot.edge('F', 'G')\n",
    "    dot.edge('G', 'H')\n",
    "    dot.edge('H', 'E', label='No')\n",
    "    dot.edge('H', 'I', label='Yes')\n",
    "    dot.edge('I', 'J')\n",
    "\n",
    "    # Save the graph\n",
    "    dot.render('bayesian_rulelist_visual', format='png', cleanup=True)\n",
    "    print(\"BayesianRuleListClassifier visual created: bayesian_rulelist_visual.png\")\n",
    "\n",
    "# Call the function to create the visual\n",
    "create_bayesian_rulelist_visual()"
   ]
  },
  {
   "cell_type": "markdown",
   "metadata": {},
   "source": [
    "## Algorithm Visualizations and Explanations\n",
    "\n",
    "#### 1. RuleFitRegressor\n",
    "\n",
    "![RuleFitRegressor Flowchart](rulefit_visual.png)\n",
    "\n",
    "**Algorithm Workflow:**\n",
    "\n",
    "1. **Input Data**: The original dataset containing features and the target variable.\n",
    "2. **Train Ensemble of Trees**: Use the original features to train an ensemble of decision trees, such as Gradient Boosting Trees.\n",
    "3. **Extract Rules from Trees**: Derive decision rules from the trained trees by extracting the paths leading to leaf nodes.\n",
    "4. **Generate Linear Features**: Perform linear transformations on the original features to capture linear relationships.\n",
    "5. **Combine Rules and Linear Features**: Merge the extracted rules and linear features into a new feature set.\n",
    "6. **Fit Regularized Linear Model**: Use an L1-regularized linear regression model (e.g., Lasso) to fit the new feature set, promoting sparsity and feature selection.\n",
    "7. **Output Predictions**: Use the trained model to make predictions on new data.\n",
    "\n",
    "---\n",
    "\n",
    "#### 2. GreedyRuleListClassifier\n",
    "\n",
    "![GreedyRuleListClassifier Flowchart](greedy_rulelist_visual.png)\n",
    "\n",
    "**Algorithm Workflow:**\n",
    "\n",
    "1. **Input Data**: The training dataset with features and labels.\n",
    "2. **Initialize Empty Rule List**: Start with an empty list to hold the classification rules.\n",
    "3. **Search for Best Rule**: Identify the rule that best separates the classes based on a chosen metric (e.g., information gain).\n",
    "4. **Add Rule to List**: Append the selected rule to the rule list.\n",
    "5. **Remove Covered Instances**: Exclude instances correctly classified by the new rule from the dataset.\n",
    "6. **Meet Stopping Criteria?**\n",
    "\n",
    "   - **No**: Return to step 3 with the remaining data.\n",
    "   - **Yes**: Proceed to the next step.\n",
    "\n",
    "7. **Output Final Rule List**: Generate the ordered list of rules for classification.\n",
    "8. **Stop**: The algorithm terminates.\n",
    "\n",
    "---\n",
    "\n",
    "#### 3. BayesianRuleListClassifier\n",
    "\n",
    "![BayesianRuleListClassifier Flowchart](bayesian_rulelist_visual.png)\n",
    "\n",
    "**Algorithm Workflow:**\n",
    "\n",
    "1. **Input Data**: The training dataset containing features and labels.\n",
    "2. **Generate Candidate Rules**: Create a set of potential rules using methods like frequent itemset mining.\n",
    "3. **Define Prior Distributions**: Establish prior probabilities for aspects of the rule list, such as its length and the complexity of rules.\n",
    "4. **Initialize MCMC Sampling**: Begin the Markov Chain Monte Carlo (MCMC) sampling process.\n",
    "5. **Sample Rule Lists**: Randomly sample possible rule lists from the candidate rules.\n",
    "6. **Compute Posterior Probability**: Calculate the posterior probability of each sampled rule list given the data.\n",
    "7. **Update Rule List Samples**: Use the posterior probabilities to decide whether to accept or reject sampled rule lists, updating the Markov chain.\n",
    "8. **Converged?**\n",
    "\n",
    "   - **No**: Return to step 5 to continue sampling.\n",
    "   - **Yes**: Proceed to the next step.\n",
    "\n",
    "9. **Output Probabilistic Rule List**: Produce a rule list that reflects the posterior distribution over possible rule lists.\n",
    "10. **Stop**: The algorithm concludes.\n",
    "\n",
    "---\n",
    "\n"
   ]
  },
  {
   "cell_type": "markdown",
   "metadata": {},
   "source": []
  },
  {
   "cell_type": "markdown",
   "metadata": {},
   "source": []
  }
 ],
 "metadata": {
  "kernelspec": {
   "display_name": "Python 3",
   "language": "python",
   "name": "python3"
  },
  "language_info": {
   "codemirror_mode": {
    "name": "ipython",
    "version": 3
   },
   "file_extension": ".py",
   "mimetype": "text/x-python",
   "name": "python",
   "nbconvert_exporter": "python",
   "pygments_lexer": "ipython3",
   "version": "3.8.8"
  }
 },
 "nbformat": 4,
 "nbformat_minor": 2
}
